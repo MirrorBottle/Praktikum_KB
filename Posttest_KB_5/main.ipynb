{
 "cells": [
  {
   "cell_type": "markdown",
   "metadata": {},
   "source": [
    "### Video Game Sales\n",
    "\n",
    "#### Data Diri\n",
    "\n",
    "**Nama:** Bayu Setiawan\n",
    "\n",
    "**NIM:** 026\n",
    "\n",
    "#### Penjelasan Singkat\n",
    "Dataset penjualan video game dari berbagai *platform* \n",
    "\n",
    "[Sumber bisa dilihat di sini](https://www.kaggle.com/datasets/gregorut/videogamesales)"
   ]
  },
  {
   "cell_type": "markdown",
   "metadata": {},
   "source": [
    "##### Tampilan Dataset"
   ]
  },
  {
   "cell_type": "code",
   "execution_count": 101,
   "metadata": {},
   "outputs": [
    {
     "name": "stdout",
     "output_type": "stream",
     "text": [
      "<class 'pandas.core.frame.DataFrame'>\n",
      "RangeIndex: 16598 entries, 0 to 16597\n",
      "Data columns (total 11 columns):\n",
      " #   Column        Non-Null Count  Dtype  \n",
      "---  ------        --------------  -----  \n",
      " 0   Rank          16598 non-null  int64  \n",
      " 1   Name          16598 non-null  object \n",
      " 2   Platform      16598 non-null  object \n",
      " 3   Year          16327 non-null  float64\n",
      " 4   Genre         16598 non-null  object \n",
      " 5   Publisher     16540 non-null  object \n",
      " 6   NA_Sales      16598 non-null  float64\n",
      " 7   EU_Sales      16598 non-null  float64\n",
      " 8   JP_Sales      16598 non-null  float64\n",
      " 9   Other_Sales   16598 non-null  float64\n",
      " 10  Global_Sales  16598 non-null  float64\n",
      "dtypes: float64(6), int64(1), object(4)\n",
      "memory usage: 1.4+ MB\n"
     ]
    }
   ],
   "source": [
    "import pandas as pd\n",
    "import numpy as np\n",
    "import matplotlib.pyplot as plt\n",
    "import random\n",
    "from prettytable import PrettyTable\n",
    "\n",
    "from sklearn.model_selection import train_test_split\n",
    "from sklearn.neighbors import KNeighborsClassifier\n",
    "from sklearn.svm import SVC\n",
    "\n",
    "df = pd.read_csv(\"./dataset/vgsales.csv\")\n",
    "\n",
    "\n",
    "df.info()"
   ]
  },
  {
   "cell_type": "markdown",
   "metadata": {},
   "source": [
    "##### Pembagian Dataset\n",
    "\n",
    "Di sini kita akan menggunakan dataset penjualan dengan klasifikasi berdasarkan platform. Tujuan pelatihan model adalah dapat menebak platform berdasarkan penjualannya."
   ]
  },
  {
   "cell_type": "code",
   "execution_count": 97,
   "metadata": {},
   "outputs": [
    {
     "name": "stdout",
     "output_type": "stream",
     "text": [
      "Pembagian Dataset : \n",
      "\n",
      "Dimensi X_train (4979, 5)\n",
      "Dimensi X_test (11619, 5)\n",
      "Dimensi y_train (4979,)\n",
      "Dimensi y_test (11619,)\n"
     ]
    }
   ],
   "source": [
    "X = df[[\"NA_Sales\",\"EU_Sales\",\"JP_Sales\",\"Other_Sales\",\"Global_Sales\"]]\n",
    "y = df[\"Platform\"]\n",
    "\n",
    "X_train, X_test, y_train, y_test = train_test_split(X, y, test_size=0.7, random_state=0)\n",
    "\n",
    "print(\"Dimensi X_train\", X_train.shape)\n",
    "print(\"Dimensi X_test\", X_test.shape)\n",
    "print(\"Dimensi y_train\", y_train.shape)\n",
    "print(\"Dimensi y_test\", y_test.shape)"
   ]
  },
  {
   "cell_type": "markdown",
   "metadata": {},
   "source": [
    "##### Pelatihan Model (K-Nearest Neighbour (KNN) dan Support Vector Machine (SVM))\n",
    "\n",
    "Karena kita akan melakukan klasifikasi, di sini menggunakan algoritma K-Nearest Neighbour (KNN) dan Support Vector Machine (SVM)"
   ]
  },
  {
   "cell_type": "code",
   "execution_count": 115,
   "metadata": {},
   "outputs": [
    {
     "name": "stderr",
     "output_type": "stream",
     "text": [
      "c:\\Python310\\lib\\site-packages\\sklearn\\base.py:450: UserWarning: X does not have valid feature names, but KNeighborsClassifier was fitted with feature names\n",
      "  warnings.warn(\n"
     ]
    },
    {
     "name": "stdout",
     "output_type": "stream",
     "text": [
      "+---------------------------------+\n",
      "|              Hasil              |\n",
      "+-----------+---------------------+\n",
      "| Algoritma | Skor                |\n",
      "+-----------+---------------------+\n",
      "| KNN       | 0.48734749209218253 |\n",
      "| SVM       | 0.1611688507305317  |\n",
      "+-----------+---------------------+\n"
     ]
    }
   ],
   "source": [
    "knn = KNeighborsClassifier(n_neighbors = 5)\n",
    "knn.fit(X_train, y_train)\n",
    "\n",
    "svc = SVC(kernel='linear')\n",
    "svc.fit(X_train, y_train)\n",
    "\n",
    "game_ps4 = [[9.07,11,1.93,2.75,24.76]]\n",
    "game = [[9,6.18,7.2,0.71,23.1]]\n",
    "\n",
    "knn.score(X_train, y_train)\n",
    "\n",
    "knn.predict(game_ps4)\n",
    "\n",
    "table = PrettyTable([\"Algoritma\", \"Skor\"])\n",
    "table.title = \"Hasil\"\n",
    "table.align = \"l\"\n",
    "\n",
    "table.add_row([\"KNN\", knn.score(X_train, y_train)])\n",
    "table.add_row([\"SVM\", svc.score(X_train, y_train)])\n",
    "\n",
    "print(table)"
   ]
  },
  {
   "cell_type": "markdown",
   "metadata": {},
   "source": [
    "#### Prediksi\n",
    "Di sini kita akan mencoba prediksi dari kedua model"
   ]
  },
  {
   "cell_type": "code",
   "execution_count": 126,
   "metadata": {},
   "outputs": [
    {
     "name": "stdout",
     "output_type": "stream",
     "text": [
      "+----------------------+\n",
      "|        Hasil         |\n",
      "+----------+-----+-----+\n",
      "| Platform | KNN | SVM |\n",
      "+----------+-----+-----+\n",
      "| DS       | DS  | PS  |\n",
      "| Wii      | Wii | DS  |\n",
      "| PS2      | PS2 | PS  |\n",
      "| NES      | PS2 | GB  |\n",
      "+----------+-----+-----+\n"
     ]
    },
    {
     "name": "stderr",
     "output_type": "stream",
     "text": [
      "c:\\Python310\\lib\\site-packages\\sklearn\\base.py:450: UserWarning: X does not have valid feature names, but KNeighborsClassifier was fitted with feature names\n",
      "  warnings.warn(\n",
      "c:\\Python310\\lib\\site-packages\\sklearn\\base.py:450: UserWarning: X does not have valid feature names, but SVC was fitted with feature names\n",
      "  warnings.warn(\n",
      "c:\\Python310\\lib\\site-packages\\sklearn\\base.py:450: UserWarning: X does not have valid feature names, but KNeighborsClassifier was fitted with feature names\n",
      "  warnings.warn(\n",
      "c:\\Python310\\lib\\site-packages\\sklearn\\base.py:450: UserWarning: X does not have valid feature names, but SVC was fitted with feature names\n",
      "  warnings.warn(\n",
      "c:\\Python310\\lib\\site-packages\\sklearn\\base.py:450: UserWarning: X does not have valid feature names, but KNeighborsClassifier was fitted with feature names\n",
      "  warnings.warn(\n",
      "c:\\Python310\\lib\\site-packages\\sklearn\\base.py:450: UserWarning: X does not have valid feature names, but SVC was fitted with feature names\n",
      "  warnings.warn(\n",
      "c:\\Python310\\lib\\site-packages\\sklearn\\base.py:450: UserWarning: X does not have valid feature names, but KNeighborsClassifier was fitted with feature names\n",
      "  warnings.warn(\n",
      "c:\\Python310\\lib\\site-packages\\sklearn\\base.py:450: UserWarning: X does not have valid feature names, but SVC was fitted with feature names\n",
      "  warnings.warn(\n"
     ]
    }
   ],
   "source": [
    "game_DS = [[11.38,9.23,6.5,2.9,30.01]]\n",
    "game_Wii = [[6.75,2.61,2.66,1.02,13.04]]\n",
    "game_PS2 = [[6.85,5.09,1.87,1.16,14.98]]\n",
    "game_NES = [[9.54,3.44,3.84,0.46,17.28]]\n",
    "\n",
    "table = PrettyTable([\"Platform\", \"KNN\", \"SVM\"])\n",
    "table.title = \"Hasil\"\n",
    "table.align = \"l\"\n",
    "\n",
    "table.add_row([\"DS\", knn.predict(game_DS)[0], svc.predict(game_DS)[0]])\n",
    "table.add_row([\"Wii\", knn.predict(game_Wii)[0], svc.predict(game_Wii)[0]])\n",
    "table.add_row([\"PS2\", knn.predict(game_PS2)[0], svc.predict(game_PS2)[0]])\n",
    "table.add_row([\"NES\", knn.predict(game_NES)[0], svc.predict(game_NES)[0]])\n",
    "\n",
    "print(table)"
   ]
  }
 ],
 "metadata": {
  "kernelspec": {
   "display_name": "Python 3.10.7 64-bit",
   "language": "python",
   "name": "python3"
  },
  "language_info": {
   "codemirror_mode": {
    "name": "ipython",
    "version": 3
   },
   "file_extension": ".py",
   "mimetype": "text/x-python",
   "name": "python",
   "nbconvert_exporter": "python",
   "pygments_lexer": "ipython3",
   "version": "3.10.7"
  },
  "orig_nbformat": 4,
  "vscode": {
   "interpreter": {
    "hash": "369f2c481f4da34e4445cda3fffd2e751bd1c4d706f27375911949ba6bb62e1c"
   }
  }
 },
 "nbformat": 4,
 "nbformat_minor": 2
}
