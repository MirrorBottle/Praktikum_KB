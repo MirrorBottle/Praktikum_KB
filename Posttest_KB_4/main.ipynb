{
 "cells": [
  {
   "cell_type": "markdown",
   "metadata": {},
   "source": [
    "### Video Game Sales\n",
    "\n",
    "#### Data Diri\n",
    "\n",
    "**Nama:** Bayu Setiawan\n",
    "\n",
    "**NIM:** 026\n",
    "\n",
    "#### Penjelasan Singkat\n",
    "Dataset penjualan video game dari berbagai *platform* \n",
    "\n",
    "[Sumber bisa dilihat di sini](https://www.kaggle.com/datasets/gregorut/videogamesales)"
   ]
  },
  {
   "cell_type": "markdown",
   "metadata": {},
   "source": [
    "##### Tampilan Dataset"
   ]
  },
  {
   "cell_type": "code",
   "execution_count": 36,
   "metadata": {},
   "outputs": [
    {
     "name": "stdout",
     "output_type": "stream",
     "text": [
      "<class 'pandas.core.frame.DataFrame'>\n",
      "RangeIndex: 16598 entries, 0 to 16597\n",
      "Data columns (total 11 columns):\n",
      " #   Column        Non-Null Count  Dtype  \n",
      "---  ------        --------------  -----  \n",
      " 0   Rank          16598 non-null  int64  \n",
      " 1   Name          16598 non-null  object \n",
      " 2   Platform      16598 non-null  object \n",
      " 3   Year          16327 non-null  float64\n",
      " 4   Genre         16598 non-null  object \n",
      " 5   Publisher     16540 non-null  object \n",
      " 6   NA_Sales      16598 non-null  float64\n",
      " 7   EU_Sales      16598 non-null  float64\n",
      " 8   JP_Sales      16598 non-null  float64\n",
      " 9   Other_Sales   16598 non-null  float64\n",
      " 10  Global_Sales  16598 non-null  float64\n",
      "dtypes: float64(6), int64(1), object(4)\n",
      "memory usage: 1.4+ MB\n"
     ]
    }
   ],
   "source": [
    "import pandas as pd\n",
    "import numpy as np\n",
    "import matplotlib.pyplot as plt\n",
    "import random\n",
    "from prettytable import PrettyTable\n",
    "\n",
    "from sklearn.model_selection import train_test_split\n",
    "from sklearn.preprocessing import MinMaxScaler, StandardScaler, OneHotEncoder\n",
    "from sklearn.impute import SimpleImputer\n",
    "\n",
    "df = pd.read_csv(\"./dataset/vgsales.csv\")\n",
    "\n",
    "df.info()"
   ]
  },
  {
   "cell_type": "markdown",
   "metadata": {},
   "source": [
    "##### Bagi dataset menjadi training set dan testing set dengan proporsi 70:30\n"
   ]
  },
  {
   "cell_type": "code",
   "execution_count": 5,
   "metadata": {},
   "outputs": [
    {
     "name": "stdout",
     "output_type": "stream",
     "text": [
      "+-------------------------------+\n",
      "|       Pembagian Dataset       |\n",
      "+-----------------+-------------+\n",
      "| Data            | Hasil       |\n",
      "+-----------------+-------------+\n",
      "| Dimensi X_train | (11618, 10) |\n",
      "| Dimensi X_text  | (4980, 10)  |\n",
      "| Dimensi Y_train | (11618,)    |\n",
      "| Dimensi Y_test  | (4980,)     |\n",
      "+-----------------+-------------+\n"
     ]
    }
   ],
   "source": [
    "X = df.iloc[:, : -1]\n",
    "y = df.iloc[:, -1]\n",
    "\n",
    "X_train, X_test, Y_train, Y_test = train_test_split(X, y, test_size=0.3)\n",
    "\n",
    "table = PrettyTable([\"Data\", \"Hasil\"])\n",
    "table.title = \"Pembagian Dataset\"\n",
    "table.align = \"l\"\n",
    "\n",
    "table.add_row([\"Dimensi X_train\", X_train.shape])\n",
    "table.add_row([\"Dimensi X_text\", X_test.shape])\n",
    "table.add_row([\"Dimensi Y_train\", Y_train.shape])\n",
    "table.add_row([\"Dimensi Y_test\", Y_test.shape])\n",
    "\n",
    "print(table)"
   ]
  },
  {
   "cell_type": "markdown",
   "metadata": {},
   "source": [
    "##### Lakukan normalisasi data pada salah satu attribute menggunakan Min Max scaler (buatlah copy dataset terlebih dahulu)\n"
   ]
  },
  {
   "cell_type": "code",
   "execution_count": 7,
   "metadata": {},
   "outputs": [
    {
     "data": {
      "text/html": [
       "<div>\n",
       "<style scoped>\n",
       "    .dataframe tbody tr th:only-of-type {\n",
       "        vertical-align: middle;\n",
       "    }\n",
       "\n",
       "    .dataframe tbody tr th {\n",
       "        vertical-align: top;\n",
       "    }\n",
       "\n",
       "    .dataframe thead th {\n",
       "        text-align: right;\n",
       "    }\n",
       "</style>\n",
       "<table border=\"1\" class=\"dataframe\">\n",
       "  <thead>\n",
       "    <tr style=\"text-align: right;\">\n",
       "      <th></th>\n",
       "      <th>Global_Sales</th>\n",
       "      <th>Global_Sales_Norm</th>\n",
       "    </tr>\n",
       "  </thead>\n",
       "  <tbody>\n",
       "    <tr>\n",
       "      <th>0</th>\n",
       "      <td>82.74</td>\n",
       "      <td>1.000000</td>\n",
       "    </tr>\n",
       "    <tr>\n",
       "      <th>1</th>\n",
       "      <td>40.24</td>\n",
       "      <td>0.486281</td>\n",
       "    </tr>\n",
       "    <tr>\n",
       "      <th>2</th>\n",
       "      <td>35.82</td>\n",
       "      <td>0.432854</td>\n",
       "    </tr>\n",
       "    <tr>\n",
       "      <th>3</th>\n",
       "      <td>33.00</td>\n",
       "      <td>0.398767</td>\n",
       "    </tr>\n",
       "    <tr>\n",
       "      <th>4</th>\n",
       "      <td>31.37</td>\n",
       "      <td>0.379064</td>\n",
       "    </tr>\n",
       "  </tbody>\n",
       "</table>\n",
       "</div>"
      ],
      "text/plain": [
       "   Global_Sales  Global_Sales_Norm\n",
       "0         82.74           1.000000\n",
       "1         40.24           0.486281\n",
       "2         35.82           0.432854\n",
       "3         33.00           0.398767\n",
       "4         31.37           0.379064"
      ]
     },
     "execution_count": 7,
     "metadata": {},
     "output_type": "execute_result"
    }
   ],
   "source": [
    "data_normalized = df[[\"Global_Sales\"]]\n",
    "data_normalized.columns = [\"Global_Sales\"]\n",
    "\n",
    "min_max_scaler = MinMaxScaler()\n",
    "normalized = min_max_scaler.fit_transform(data_normalized[[\"Global_Sales\"]])\n",
    "\n",
    "df_normalized = pd.DataFrame(normalized)\n",
    "df_normalized.columns =[\"Global_Sales_Norm\"]\n",
    "\n",
    "data_normalized = data_normalized.join(df_normalized[\"Global_Sales_Norm\"]).reset_index()\n",
    "data_normalized = data_normalized.drop(\"index\", axis=1)\n",
    "\n",
    "data_normalized.head()"
   ]
  },
  {
   "cell_type": "markdown",
   "metadata": {},
   "source": [
    "##### Lakukan standarisasi pada dataset (buatlah copy dataset terlebih dahulu)"
   ]
  },
  {
   "cell_type": "code",
   "execution_count": 25,
   "metadata": {},
   "outputs": [
    {
     "name": "stdout",
     "output_type": "stream",
     "text": [
      "+---------------------------------------------+\n",
      "|                 Standarisasi                |\n",
      "+--------------+--------------------+---------+\n",
      "| Data         | Sebelum            | Sesudah |\n",
      "+--------------+--------------------+---------+\n",
      "| Rank         | 4791.7095803807315 | 1.0     |\n",
      "| Year         | 5.8288026045648555 | 1.0     |\n",
      "| NA_Sales     | 0.816658427077811  | 1.0     |\n",
      "| EU_Sales     | 0.5053360078008547 | 1.0     |\n",
      "| JP_Sales     | 0.3092813308359451 | 1.0     |\n",
      "| Other_Sales  | 0.1885827217690971 | 1.0     |\n",
      "| Global_Sales | 1.5549810910296606 | 1.0     |\n",
      "+--------------+--------------------+---------+\n"
     ]
    }
   ],
   "source": [
    "data_origin = df.select_dtypes(include='number')\n",
    "\n",
    "standard_scaler = StandardScaler()\n",
    "df_standarized = standard_scaler.fit_transform(data_origin)\n",
    "data_standarized = pd.DataFrame(df_standarized)\n",
    "data_standarized.columns = [\"Rank\", \"Year\", \"NA_Sales\", \"EU_Sales\", \"JP_Sales\", \"Other_Sales\", \"Global_Sales\"]\n",
    "\n",
    "\n",
    "table = PrettyTable([\"Data\", \"Sebelum\", \"Sesudah\"])\n",
    "table.title = \"Standarisasi\"\n",
    "table.align = \"l\"\n",
    "\n",
    "std_origin = np.std(data_origin)\n",
    "std_standarized = np.std(data_standarized)\n",
    "\n",
    "table.add_row([\"Rank\", std_origin[\"Rank\"], std_standarized[\"Rank\"]])\n",
    "table.add_row([\"Year\", std_origin[\"Year\"], std_standarized[\"Year\"]])\n",
    "table.add_row([\"NA_Sales\", std_origin[\"NA_Sales\"], std_standarized[\"NA_Sales\"]])\n",
    "table.add_row([\"EU_Sales\", std_origin[\"EU_Sales\"], std_standarized[\"EU_Sales\"]])\n",
    "table.add_row([\"JP_Sales\", std_origin[\"JP_Sales\"], std_standarized[\"JP_Sales\"]])\n",
    "table.add_row([\"Other_Sales\", std_origin[\"Other_Sales\"], std_standarized[\"Other_Sales\"]])\n",
    "table.add_row([\"Global_Sales\", std_origin[\"Global_Sales\"], std_standarized[\"Global_Sales\"]])\n",
    "\n",
    "print(table)"
   ]
  },
  {
   "cell_type": "markdown",
   "metadata": {},
   "source": [
    "##### Lakukan Data cleaning pada data dengan nilai null (jika tidak ada nilai null pada dataset, maka buatlah menjadi ada).\n",
    "\n",
    "Ganti nilai null sesuai ketentuan. (bilangan bulat : median/modus, bilangan desimal : mean, tulisan : modus). Nilai plus jika strategy yang digunakan menggunakan 3 nilai\n",
    "\n",
    "di sini akan menggunakan **NULL**"
   ]
  },
  {
   "cell_type": "code",
   "execution_count": 27,
   "metadata": {},
   "outputs": [
    {
     "data": {
      "text/html": [
       "<div>\n",
       "<style scoped>\n",
       "    .dataframe tbody tr th:only-of-type {\n",
       "        vertical-align: middle;\n",
       "    }\n",
       "\n",
       "    .dataframe tbody tr th {\n",
       "        vertical-align: top;\n",
       "    }\n",
       "\n",
       "    .dataframe thead th {\n",
       "        text-align: right;\n",
       "    }\n",
       "</style>\n",
       "<table border=\"1\" class=\"dataframe\">\n",
       "  <thead>\n",
       "    <tr style=\"text-align: right;\">\n",
       "      <th></th>\n",
       "      <th>Rank</th>\n",
       "      <th>Year</th>\n",
       "      <th>NA_Sales</th>\n",
       "      <th>EU_Sales</th>\n",
       "      <th>JP_Sales</th>\n",
       "      <th>Other_Sales</th>\n",
       "      <th>Global_Sales</th>\n",
       "    </tr>\n",
       "  </thead>\n",
       "  <tbody>\n",
       "    <tr>\n",
       "      <th>0</th>\n",
       "      <td>1.0</td>\n",
       "      <td>NaN</td>\n",
       "      <td>41.49</td>\n",
       "      <td>29.02</td>\n",
       "      <td>3.77</td>\n",
       "      <td>8.46</td>\n",
       "      <td>NaN</td>\n",
       "    </tr>\n",
       "    <tr>\n",
       "      <th>1</th>\n",
       "      <td>NaN</td>\n",
       "      <td>NaN</td>\n",
       "      <td>29.08</td>\n",
       "      <td>3.58</td>\n",
       "      <td>6.81</td>\n",
       "      <td>0.77</td>\n",
       "      <td>40.24</td>\n",
       "    </tr>\n",
       "    <tr>\n",
       "      <th>2</th>\n",
       "      <td>3.0</td>\n",
       "      <td>2008.0</td>\n",
       "      <td>15.85</td>\n",
       "      <td>12.88</td>\n",
       "      <td>3.79</td>\n",
       "      <td>3.31</td>\n",
       "      <td>35.82</td>\n",
       "    </tr>\n",
       "    <tr>\n",
       "      <th>3</th>\n",
       "      <td>4.0</td>\n",
       "      <td>NaN</td>\n",
       "      <td>15.75</td>\n",
       "      <td>11.01</td>\n",
       "      <td>3.28</td>\n",
       "      <td>2.96</td>\n",
       "      <td>33.00</td>\n",
       "    </tr>\n",
       "    <tr>\n",
       "      <th>4</th>\n",
       "      <td>5.0</td>\n",
       "      <td>1996.0</td>\n",
       "      <td>11.27</td>\n",
       "      <td>8.89</td>\n",
       "      <td>10.22</td>\n",
       "      <td>1.00</td>\n",
       "      <td>31.37</td>\n",
       "    </tr>\n",
       "  </tbody>\n",
       "</table>\n",
       "</div>"
      ],
      "text/plain": [
       "   Rank    Year  NA_Sales  EU_Sales  JP_Sales  Other_Sales  Global_Sales\n",
       "0   1.0     NaN     41.49     29.02      3.77         8.46           NaN\n",
       "1   NaN     NaN     29.08      3.58      6.81         0.77         40.24\n",
       "2   3.0  2008.0     15.85     12.88      3.79         3.31         35.82\n",
       "3   4.0     NaN     15.75     11.01      3.28         2.96         33.00\n",
       "4   5.0  1996.0     11.27      8.89     10.22         1.00         31.37"
      ]
     },
     "execution_count": 27,
     "metadata": {},
     "output_type": "execute_result"
    }
   ],
   "source": [
    "df_broken = df.select_dtypes(include='number')\n",
    "\n",
    "ix = [(row, col) for row in range(df_broken.shape[0]) for col in range(df_broken.shape[1])]\n",
    "for row, col in random.sample(ix, int(round(.1*len(ix)))):\n",
    "    df_broken.iat[row, col] = np.nan\n",
    "    \n",
    "df_broken.head()"
   ]
  },
  {
   "cell_type": "code",
   "execution_count": 42,
   "metadata": {},
   "outputs": [
    {
     "name": "stdout",
     "output_type": "stream",
     "text": [
      "+----------------------------------------------------------+\n",
      "|                         Cleaning                         |\n",
      "+--------------+-----------+---------------+---------------+\n",
      "| Data         | Tipe Data | Total Sebelum | Total Sesudah |\n",
      "+--------------+-----------+---------------+---------------+\n",
      "| Rank         | float64   | 1709          | 0             |\n",
      "| Year         | float64   | 1922          | 0             |\n",
      "| NA_Sales     | float64   | 1688          | 0             |\n",
      "| EU_Sales     | float64   | 1638          | 0             |\n",
      "| JP_Sales     | float64   | 1653          | 0             |\n",
      "| Other_Sales  | float64   | 1641          | 0             |\n",
      "| Global_Sales | float64   | 1613          | 0             |\n",
      "+--------------+-----------+---------------+---------------+\n"
     ]
    }
   ],
   "source": [
    "simple_imputer = SimpleImputer(strategy = \"mean\")\n",
    "df_cleaned = simple_imputer.fit_transform(df_broken)\n",
    "data_cleaned = pd.DataFrame(df_cleaned)\n",
    "data_cleaned.columns = [\"Rank\", \"Year\", \"NA_Sales\", \"EU_Sales\", \"JP_Sales\", \"Other_Sales\", \"Global_Sales\"]\n",
    "\n",
    "\n",
    "types = df_broken.dtypes;\n",
    "broken_sums = df_broken.isna().sum();\n",
    "cleaned_sums = data_cleaned.isna().sum()\n",
    "\n",
    "table = PrettyTable([\"Data\", \"Tipe Data\", \"Total Sebelum\", \"Total Sesudah\"])\n",
    "table.title = \"Cleaning\"\n",
    "table.align = \"l\"\n",
    "\n",
    "std_origin = np.std(data_origin)\n",
    "std_standarized = np.std(data_standarized)\n",
    "\n",
    "table.add_row([\"Rank\", types[\"Rank\"], broken_sums[\"Rank\"], cleaned_sums[\"Rank\"]])\n",
    "table.add_row([\"Year\", types[\"Year\"], broken_sums[\"Year\"], cleaned_sums[\"Year\"]])\n",
    "table.add_row([\"NA_Sales\", types[\"NA_Sales\"], broken_sums[\"NA_Sales\"], cleaned_sums[\"NA_Sales\"]])\n",
    "table.add_row([\"EU_Sales\", types[\"EU_Sales\"], broken_sums[\"EU_Sales\"], cleaned_sums[\"EU_Sales\"]])\n",
    "table.add_row([\"JP_Sales\", types[\"JP_Sales\"], broken_sums[\"JP_Sales\"], cleaned_sums[\"JP_Sales\"]])\n",
    "table.add_row([\"Other_Sales\", types[\"Other_Sales\"], broken_sums[\"Other_Sales\"], cleaned_sums[\"Other_Sales\"]])\n",
    "table.add_row([\"Global_Sales\", types[\"Global_Sales\"], broken_sums[\"Global_Sales\"], cleaned_sums[\"Global_Sales\"]])\n",
    "\n",
    "\n",
    "print(table)"
   ]
  },
  {
   "cell_type": "markdown",
   "metadata": {},
   "source": [
    "#### Lakukan Data cleaning pada data dengan nilai duplikat. (Jika tidak ada nilai duplikat pada dataset, maka buatlah menjadi ada)\n",
    "\n",
    "Di sini kita akan membuat data duplikat terlebih dahulu"
   ]
  },
  {
   "cell_type": "code",
   "execution_count": 45,
   "metadata": {},
   "outputs": [
    {
     "data": {
      "text/plain": [
       "0        False\n",
       "1        False\n",
       "2        False\n",
       "3        False\n",
       "4        False\n",
       "         ...  \n",
       "33191     True\n",
       "33192     True\n",
       "33193     True\n",
       "33194     True\n",
       "33195     True\n",
       "Length: 33196, dtype: bool"
      ]
     },
     "execution_count": 45,
     "metadata": {},
     "output_type": "execute_result"
    }
   ],
   "source": [
    "df_duplicated = pd.concat([df]*2, ignore_index=True)\n",
    "df_duplicated.duplicated()"
   ]
  },
  {
   "cell_type": "code",
   "execution_count": 46,
   "metadata": {},
   "outputs": [
    {
     "name": "stdout",
     "output_type": "stream",
     "text": [
      "Total data duplikat: 16598\n",
      "Total data duplikat: 0\n"
     ]
    }
   ],
   "source": [
    "print(f\"Total data duplikat: {df_duplicated.duplicated().sum()}\")\n",
    "df_duplicated.drop_duplicates(inplace = True)\n",
    "print(f\"Total data duplikat: {df_duplicated.duplicated().sum()}\")"
   ]
  },
  {
   "cell_type": "markdown",
   "metadata": {},
   "source": [
    "#### Ganti tipe data salah satu attribute angka"
   ]
  },
  {
   "cell_type": "code",
   "execution_count": 51,
   "metadata": {},
   "outputs": [
    {
     "name": "stdout",
     "output_type": "stream",
     "text": [
      "Tipe data sebelum: float64\n",
      "Tipe data sesudah: int32\n"
     ]
    }
   ],
   "source": [
    "print(f\"Tipe data sebelum: {df['NA_Sales'].dtypes}\")\n",
    "df_to_number = df[[\"NA_Sales\"]].astype(int)\n",
    "print(f\"Tipe data sesudah: {df_to_number['NA_Sales'].dtypes}\")"
   ]
  },
  {
   "cell_type": "markdown",
   "metadata": {},
   "source": [
    "#### Lakukan one hot encoding pada dataset yang kalian miliki."
   ]
  },
  {
   "cell_type": "code",
   "execution_count": 55,
   "metadata": {},
   "outputs": [
    {
     "data": {
      "text/html": [
       "<div>\n",
       "<style scoped>\n",
       "    .dataframe tbody tr th:only-of-type {\n",
       "        vertical-align: middle;\n",
       "    }\n",
       "\n",
       "    .dataframe tbody tr th {\n",
       "        vertical-align: top;\n",
       "    }\n",
       "\n",
       "    .dataframe thead th {\n",
       "        text-align: right;\n",
       "    }\n",
       "</style>\n",
       "<table border=\"1\" class=\"dataframe\">\n",
       "  <thead>\n",
       "    <tr style=\"text-align: right;\">\n",
       "      <th></th>\n",
       "      <th>Action</th>\n",
       "      <th>Sports</th>\n",
       "      <th>Misc</th>\n",
       "      <th>Role-Playing</th>\n",
       "      <th>Shooter</th>\n",
       "      <th>Adventure</th>\n",
       "      <th>Racing</th>\n",
       "      <th>Platform</th>\n",
       "      <th>Simulation</th>\n",
       "      <th>Fighting</th>\n",
       "      <th>Strategy</th>\n",
       "      <th>Puzzle</th>\n",
       "    </tr>\n",
       "  </thead>\n",
       "  <tbody>\n",
       "    <tr>\n",
       "      <th>0</th>\n",
       "      <td>0.0</td>\n",
       "      <td>0.0</td>\n",
       "      <td>0.0</td>\n",
       "      <td>0.0</td>\n",
       "      <td>0.0</td>\n",
       "      <td>0.0</td>\n",
       "      <td>0.0</td>\n",
       "      <td>0.0</td>\n",
       "      <td>0.0</td>\n",
       "      <td>0.0</td>\n",
       "      <td>1.0</td>\n",
       "      <td>0.0</td>\n",
       "    </tr>\n",
       "    <tr>\n",
       "      <th>1</th>\n",
       "      <td>0.0</td>\n",
       "      <td>0.0</td>\n",
       "      <td>0.0</td>\n",
       "      <td>0.0</td>\n",
       "      <td>1.0</td>\n",
       "      <td>0.0</td>\n",
       "      <td>0.0</td>\n",
       "      <td>0.0</td>\n",
       "      <td>0.0</td>\n",
       "      <td>0.0</td>\n",
       "      <td>0.0</td>\n",
       "      <td>0.0</td>\n",
       "    </tr>\n",
       "    <tr>\n",
       "      <th>2</th>\n",
       "      <td>0.0</td>\n",
       "      <td>0.0</td>\n",
       "      <td>0.0</td>\n",
       "      <td>0.0</td>\n",
       "      <td>0.0</td>\n",
       "      <td>0.0</td>\n",
       "      <td>1.0</td>\n",
       "      <td>0.0</td>\n",
       "      <td>0.0</td>\n",
       "      <td>0.0</td>\n",
       "      <td>0.0</td>\n",
       "      <td>0.0</td>\n",
       "    </tr>\n",
       "    <tr>\n",
       "      <th>3</th>\n",
       "      <td>0.0</td>\n",
       "      <td>0.0</td>\n",
       "      <td>0.0</td>\n",
       "      <td>0.0</td>\n",
       "      <td>0.0</td>\n",
       "      <td>0.0</td>\n",
       "      <td>0.0</td>\n",
       "      <td>0.0</td>\n",
       "      <td>0.0</td>\n",
       "      <td>0.0</td>\n",
       "      <td>1.0</td>\n",
       "      <td>0.0</td>\n",
       "    </tr>\n",
       "    <tr>\n",
       "      <th>4</th>\n",
       "      <td>0.0</td>\n",
       "      <td>0.0</td>\n",
       "      <td>0.0</td>\n",
       "      <td>0.0</td>\n",
       "      <td>0.0</td>\n",
       "      <td>0.0</td>\n",
       "      <td>0.0</td>\n",
       "      <td>1.0</td>\n",
       "      <td>0.0</td>\n",
       "      <td>0.0</td>\n",
       "      <td>0.0</td>\n",
       "      <td>0.0</td>\n",
       "    </tr>\n",
       "  </tbody>\n",
       "</table>\n",
       "</div>"
      ],
      "text/plain": [
       "   Action  Sports  Misc  Role-Playing  Shooter  Adventure  Racing  Platform  \\\n",
       "0     0.0     0.0   0.0           0.0      0.0        0.0     0.0       0.0   \n",
       "1     0.0     0.0   0.0           0.0      1.0        0.0     0.0       0.0   \n",
       "2     0.0     0.0   0.0           0.0      0.0        0.0     1.0       0.0   \n",
       "3     0.0     0.0   0.0           0.0      0.0        0.0     0.0       0.0   \n",
       "4     0.0     0.0   0.0           0.0      0.0        0.0     0.0       1.0   \n",
       "\n",
       "   Simulation  Fighting  Strategy  Puzzle  \n",
       "0         0.0       0.0       1.0     0.0  \n",
       "1         0.0       0.0       0.0     0.0  \n",
       "2         0.0       0.0       0.0     0.0  \n",
       "3         0.0       0.0       1.0     0.0  \n",
       "4         0.0       0.0       0.0     0.0  "
      ]
     },
     "execution_count": 55,
     "metadata": {},
     "output_type": "execute_result"
    }
   ],
   "source": [
    "data_encoded = df[\"Genre\"].value_counts().rename_axis(\"Genre\").reset_index(name=\"count\")\n",
    "czip = zip(data_encoded[\"Genre\"])\n",
    "cname = [nama_kategori[0] for nama_kategori in list(czip)]\n",
    "\n",
    "#Encoding\n",
    "one_hot_encoder = OneHotEncoder(sparse=False)\n",
    "data_encoded = one_hot_encoder.fit_transform(df[[\"Genre\"]])\n",
    "\n",
    "df_encoded = pd.DataFrame(data_encoded)\n",
    "df_encoded.columns = cname\n",
    "\n",
    "df_encoded.head()"
   ]
  }
 ],
 "metadata": {
  "kernelspec": {
   "display_name": "Python 3.10.7 64-bit",
   "language": "python",
   "name": "python3"
  },
  "language_info": {
   "codemirror_mode": {
    "name": "ipython",
    "version": 3
   },
   "file_extension": ".py",
   "mimetype": "text/x-python",
   "name": "python",
   "nbconvert_exporter": "python",
   "pygments_lexer": "ipython3",
   "version": "3.10.7"
  },
  "orig_nbformat": 4,
  "vscode": {
   "interpreter": {
    "hash": "369f2c481f4da34e4445cda3fffd2e751bd1c4d706f27375911949ba6bb62e1c"
   }
  }
 },
 "nbformat": 4,
 "nbformat_minor": 2
}
