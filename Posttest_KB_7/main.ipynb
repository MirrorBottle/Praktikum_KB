{
 "cells": [
  {
   "cell_type": "markdown",
   "metadata": {},
   "source": [
    "#### Data Diri\n",
    "\n",
    "**Nama:** Bayu Setiawan\n",
    "\n",
    "**NIM:** 026"
   ]
  },
  {
   "cell_type": "code",
   "execution_count": 51,
   "metadata": {},
   "outputs": [
    {
     "name": "stdout",
     "output_type": "stream",
     "text": [
      "2.10.0\n"
     ]
    }
   ],
   "source": [
    "import tensorflow as tf\n",
    "import numpy as np\n",
    "from prettytable import PrettyTable\n",
    "\n",
    "print(tf.__version__)"
   ]
  },
  {
   "cell_type": "markdown",
   "metadata": {},
   "source": [
    "#### 1. Buatlah sebuah tensor dengan shape(5,5) dengan nilai random yang disimpan dalam variable random_tensor."
   ]
  },
  {
   "cell_type": "code",
   "execution_count": 29,
   "metadata": {},
   "outputs": [
    {
     "data": {
      "text/plain": [
       "<tf.Tensor: shape=(5, 5), dtype=int32, numpy=\n",
       "array([[17,  6, 14, 39,  2],\n",
       "       [33, 31, 36, 25, 38],\n",
       "       [17,  2,  1,  2, 18],\n",
       "       [13, 28, 29, 13,  2],\n",
       "       [18, 17, 35, 17, 23]])>"
      ]
     },
     "execution_count": 29,
     "metadata": {},
     "output_type": "execute_result"
    }
   ],
   "source": [
    "random_tensor = tf.random.uniform(shape=(5, 5), minval=1, maxval=40, dtype=tf.int32)\n",
    "\n",
    "random_tensor"
   ]
  },
  {
   "cell_type": "markdown",
   "metadata": {},
   "source": [
    "#### 2. Buatlah sebuah tensor dengan shape(5,5) dari sebuah list dengan nilai bilangan prima dalam variable prime_tensor."
   ]
  },
  {
   "cell_type": "code",
   "execution_count": 4,
   "metadata": {},
   "outputs": [
    {
     "data": {
      "text/plain": [
       "<tf.Tensor: shape=(5, 5), dtype=int32, numpy=\n",
       "array([[  2,   3,   5,   7,  11],\n",
       "       [ 17,  19,  23,  29,  31],\n",
       "       [ 37,  41,  43,  47,  53],\n",
       "       [ 59,  61,  67,  71,  73],\n",
       "       [ 79,  83,  89,  97, 101]])>"
      ]
     },
     "execution_count": 4,
     "metadata": {},
     "output_type": "execute_result"
    }
   ],
   "source": [
    "prime_tensor = tf.convert_to_tensor([[2, 3, 5, 7, 11], [17, 19, 23, 29, 31], [37, 41, 43, 47, 53], [59, 61, 67, 71, 73], [79, 83, 89, 97, 101]])\n",
    "\n",
    "prime_tensor"
   ]
  },
  {
   "cell_type": "markdown",
   "metadata": {},
   "source": [
    "#### 3. Tampilkan dimensi dari kedua variable tersebut."
   ]
  },
  {
   "cell_type": "code",
   "execution_count": 6,
   "metadata": {},
   "outputs": [
    {
     "name": "stdout",
     "output_type": "stream",
     "text": [
      "+---------------+---------+\n",
      "| Variable      | Dimensi |\n",
      "+---------------+---------+\n",
      "| random_tensor | (5, 5)  |\n",
      "| prime_tensor  | (5, 5)  |\n",
      "+---------------+---------+\n"
     ]
    }
   ],
   "source": [
    "table = PrettyTable([\"Variable\", \"Dimensi\"])\n",
    "table.align = \"l\"\n",
    "\n",
    "table.add_row([\"random_tensor\", random_tensor.shape])\n",
    "table.add_row([\"prime_tensor\", prime_tensor.shape])\n",
    "\n",
    "print(table)"
   ]
  },
  {
   "cell_type": "markdown",
   "metadata": {},
   "source": [
    "#### 4. Tampilkan hasil dari perhitungan aritmetika 2 variable tersebut (Gunakan minimal 5 operator)."
   ]
  },
  {
   "cell_type": "code",
   "execution_count": 46,
   "metadata": {},
   "outputs": [
    {
     "name": "stdout",
     "output_type": "stream",
     "text": [
      "+----------------------------------------------------------------------------+\n",
      "|                                 Aritmetika                                 |\n",
      "+----------+-----------------------------------------------------------------+\n",
      "| Operator | Hasil                                                           |\n",
      "+----------+-----------------------------------------------------------------+\n",
      "| add      | [[ 19   9  19  46  13]                                          |\n",
      "|          |  [ 50  50  59  54  69]                                          |\n",
      "|          |  [ 54  43  44  49  71]                                          |\n",
      "|          |  [ 72  89  96  84  75]                                          |\n",
      "|          |  [ 97 100 124 114 124]]                                         |\n",
      "| subtract | [[ 15   3   9  32  -9]                                          |\n",
      "|          |  [ 16  12  13  -4   7]                                          |\n",
      "|          |  [-20 -39 -42 -45 -35]                                          |\n",
      "|          |  [-46 -33 -38 -58 -71]                                          |\n",
      "|          |  [-61 -66 -54 -80 -78]]                                         |\n",
      "| divide   | [[8.5        2.         2.8        5.57142857 0.18181818]       |\n",
      "|          |  [1.94117647 1.63157895 1.56521739 0.86206897 1.22580645]       |\n",
      "|          |  [0.45945946 0.04878049 0.02325581 0.04255319 0.33962264]       |\n",
      "|          |  [0.22033898 0.45901639 0.43283582 0.18309859 0.02739726]       |\n",
      "|          |  [0.2278481  0.20481928 0.39325843 0.17525773 0.22772277]]      |\n",
      "| multiply | [[  34   18   70  273   22]                                     |\n",
      "|          |  [ 561  589  828  725 1178]                                     |\n",
      "|          |  [ 629   82   43   94  954]                                     |\n",
      "|          |  [ 767 1708 1943  923  146]                                     |\n",
      "|          |  [1422 1411 3115 1649 2323]]                                    |\n",
      "| pow      | [[        289         216      537824  -207946793        2048]  |\n",
      "|          |  [ -300539359  -408824225           0 -1155381191 -2147483648]  |\n",
      "|          |  [-1619706799           0           1           0           0]  |\n",
      "|          |  [  191504117           0    85792837  -820540315           0]  |\n",
      "|          |  [          0  -965746639 -1349453629   924399121  1248465655]] |\n",
      "+----------+-----------------------------------------------------------------+\n"
     ]
    }
   ],
   "source": [
    "res_add = tf.add(random_tensor, prime_tensor)\n",
    "res_subtract = tf.subtract(random_tensor, prime_tensor)\n",
    "res_divide = tf.divide(random_tensor, prime_tensor)\n",
    "res_multiply = tf.multiply(random_tensor, prime_tensor)\n",
    "res_pow = tf.pow(random_tensor, prime_tensor)\n",
    "\n",
    "table = PrettyTable([\"Operator\", \"Hasil\"])\n",
    "table.title = \"Aritmetika\"\n",
    "table.align = \"l\"\n",
    "\n",
    "table.add_row([\"add\", tf.keras.backend.get_value(res_add)])\n",
    "table.add_row([\"subtract\", tf.keras.backend.get_value(res_subtract)])\n",
    "table.add_row([\"divide\", tf.keras.backend.get_value(res_divide)])\n",
    "table.add_row([\"multiply\", tf.keras.backend.get_value(res_multiply)])\n",
    "table.add_row([\"pow\", tf.keras.backend.get_value(res_pow)])\n",
    "\n",
    "print(table)"
   ]
  },
  {
   "cell_type": "markdown",
   "metadata": {},
   "source": [
    "#### 5. Tampilkan nilai maksimum dan minimum dari variable random_tensor."
   ]
  },
  {
   "cell_type": "code",
   "execution_count": 64,
   "metadata": {},
   "outputs": [
    {
     "name": "stdout",
     "output_type": "stream",
     "text": [
      "Nilai Maksimal: 39\n",
      "Nilai Maksimal: 1\n"
     ]
    }
   ],
   "source": [
    "row_maxs = tf.argmax(random_tensor, axis = 1)\n",
    "row_mins = tf.argmin(random_tensor, axis = 1)\n",
    "maxs = []\n",
    "mins = []\n",
    "\n",
    "for index, max_idx in enumerate(row_maxs):\n",
    "    maxs.append(random_tensor[index][max_idx].numpy())\n",
    "\n",
    "for index, min_idx in enumerate(row_mins):\n",
    "    mins.append(random_tensor[index][min_idx].numpy())\n",
    "\n",
    "print(f\"Nilai Maksimal: {max(maxs)}\")\n",
    "print(f\"Nilai Maksimal: {min(mins)}\")"
   ]
  },
  {
   "cell_type": "markdown",
   "metadata": {},
   "source": [
    "#### 6. Tampilkan hasil dari penggabungan variable random_tensor dengan prime_tensor (concatenation)"
   ]
  },
  {
   "cell_type": "code",
   "execution_count": 68,
   "metadata": {},
   "outputs": [
    {
     "data": {
      "text/plain": [
       "<tf.Tensor: shape=(5, 10), dtype=int32, numpy=\n",
       "array([[ 17,   6,  14,  39,   2,   2,   3,   5,   7,  11],\n",
       "       [ 33,  31,  36,  25,  38,  17,  19,  23,  29,  31],\n",
       "       [ 17,   2,   1,   2,  18,  37,  41,  43,  47,  53],\n",
       "       [ 13,  28,  29,  13,   2,  59,  61,  67,  71,  73],\n",
       "       [ 18,  17,  35,  17,  23,  79,  83,  89,  97, 101]])>"
      ]
     },
     "execution_count": 68,
     "metadata": {},
     "output_type": "execute_result"
    }
   ],
   "source": [
    "concat_tensor = tf.concat([random_tensor, prime_tensor], axis=1)\n",
    "\n",
    "concat_tensor"
   ]
  },
  {
   "cell_type": "markdown",
   "metadata": {},
   "source": [
    "#### 7. Tampilkan hasil sorting dari kedua variable di atas (descending)"
   ]
  },
  {
   "cell_type": "code",
   "execution_count": 71,
   "metadata": {},
   "outputs": [
    {
     "name": "stdout",
     "output_type": "stream",
     "text": [
      "+---------------------------------------------+\n",
      "|                   Sorting                   |\n",
      "+----------+--------+-------------------------+\n",
      "| Variable | Metode | Hasil                   |\n",
      "+----------+--------+-------------------------+\n",
      "| random   | asc    | [[ 2  6 14 17 39]       |\n",
      "|          |        |  [25 31 33 36 38]       |\n",
      "|          |        |  [ 1  2  2 17 18]       |\n",
      "|          |        |  [ 2 13 13 28 29]       |\n",
      "|          |        |  [17 17 18 23 35]]      |\n",
      "| random   | desc   | [[39 17 14  6  2]       |\n",
      "|          |        |  [38 36 33 31 25]       |\n",
      "|          |        |  [18 17  2  2  1]       |\n",
      "|          |        |  [29 28 13 13  2]       |\n",
      "|          |        |  [35 23 18 17 17]]      |\n",
      "| prime    | asc    | [[  2   3   5   7  11]  |\n",
      "|          |        |  [ 17  19  23  29  31]  |\n",
      "|          |        |  [ 37  41  43  47  53]  |\n",
      "|          |        |  [ 59  61  67  71  73]  |\n",
      "|          |        |  [ 79  83  89  97 101]] |\n",
      "| prime    | desc   | [[ 11   7   5   3   2]  |\n",
      "|          |        |  [ 31  29  23  19  17]  |\n",
      "|          |        |  [ 53  47  43  41  37]  |\n",
      "|          |        |  [ 73  71  67  61  59]  |\n",
      "|          |        |  [101  97  89  83  79]] |\n",
      "+----------+--------+-------------------------+\n"
     ]
    }
   ],
   "source": [
    "random_asc = tf.sort(random_tensor, direction=\"ASCENDING\")\n",
    "random_desc = tf.sort(random_tensor, direction=\"DESCENDING\")\n",
    "prime_asc = tf.sort(prime_tensor, direction=\"ASCENDING\")\n",
    "prime_desc = tf.sort(prime_tensor, direction=\"DESCENDING\")\n",
    "\n",
    "\n",
    "table = PrettyTable([\"Variable\", \"Metode\", \"Hasil\"])\n",
    "table.title = \"Sorting\"\n",
    "table.align = \"l\"\n",
    "\n",
    "table.add_row([\"random\", \"asc\", tf.keras.backend.get_value(random_asc)])\n",
    "table.add_row([\"random\", \"desc\", tf.keras.backend.get_value(random_desc)])\n",
    "table.add_row([\"prime\", \"asc\", tf.keras.backend.get_value(prime_asc)])\n",
    "table.add_row([\"prime\", \"desc\", tf.keras.backend.get_value(prime_desc)])\n",
    "print(table)"
   ]
  },
  {
   "cell_type": "code",
   "execution_count": null,
   "metadata": {},
   "outputs": [],
   "source": []
  }
 ],
 "metadata": {
  "kernelspec": {
   "display_name": "Python 3.10.7 64-bit",
   "language": "python",
   "name": "python3"
  },
  "language_info": {
   "codemirror_mode": {
    "name": "ipython",
    "version": 3
   },
   "file_extension": ".py",
   "mimetype": "text/x-python",
   "name": "python",
   "nbconvert_exporter": "python",
   "pygments_lexer": "ipython3",
   "version": "3.10.7"
  },
  "orig_nbformat": 4,
  "vscode": {
   "interpreter": {
    "hash": "369f2c481f4da34e4445cda3fffd2e751bd1c4d706f27375911949ba6bb62e1c"
   }
  }
 },
 "nbformat": 4,
 "nbformat_minor": 2
}
